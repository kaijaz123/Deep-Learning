{
 "cells": [
  {
   "cell_type": "code",
   "execution_count": 1,
   "metadata": {},
   "outputs": [],
   "source": [
    "import numpy as np\n",
    "from random import random"
   ]
  },
  {
   "cell_type": "code",
   "execution_count": 39,
   "metadata": {},
   "outputs": [],
   "source": [
    "class MLP(object):\n",
    "    def __init__(self, num_inputs=3, hidden_layers=[3, 3], num_outputs=2):\n",
    "        self.num_inputs = num_inputs\n",
    "        self.hidden_layers = hidden_layers\n",
    "        self.num_outputs = num_outputs\n",
    "\n",
    "        # create a generic representation of the layers\n",
    "        layers = [num_inputs] + hidden_layers + [num_outputs]\n",
    "\n",
    "        # create random connection weights for the layers\n",
    "        weights = []\n",
    "        for i in range(len(layers) - 1):\n",
    "            w = np.random.rand(layers[i], layers[i + 1])\n",
    "            weights.append(w)\n",
    "        self.weights = weights\n",
    "\n",
    "        # save derivatives per layer\n",
    "        derivatives = []\n",
    "        for i in range(len(layers) - 1):\n",
    "            d = np.zeros((layers[i], layers[i + 1]))\n",
    "            derivatives.append(d)\n",
    "        self.derivatives = derivatives\n",
    "\n",
    "        # save activations per layer\n",
    "        activations = []\n",
    "        for i in range(len(layers)):\n",
    "            a = np.zeros(layers[i])\n",
    "            activations.append(a)\n",
    "        self.activations = activations\n",
    "\n",
    "\n",
    "    def forward_propagate(self, inputs):\n",
    "        # the input layer activation is just the input itself\n",
    "        activations = inputs\n",
    "\n",
    "        # save the activations for backpropogation\n",
    "        self.activations[0] = activations\n",
    "        # iterate through the network layers\n",
    "        for i, w in enumerate(self.weights):\n",
    "            # calculate matrix multiplication between previous activation and weight matrix\n",
    "            net_inputs = np.dot(activations, w)\n",
    "            # apply sigmoid activation function\n",
    "            activations = self.sigmoid(net_inputs)\n",
    "            # save the activations for backpropogation\n",
    "            self.activations[i + 1] = activations\n",
    "\n",
    "        # return output layer activation\n",
    "        return activations\n",
    "\n",
    "\n",
    "    def back_propagate(self, error):\n",
    "        # dE/dW_i = (y - a_[i+1]) * s'(h_[i+1]) * a_i <- formula\n",
    "        # dE/dW_[i-1] = (y - a_[i+1]) * s'(h_[i+1]) * W_i * s'(h_[i+1]) * a_i <- formula\n",
    "        for i in reversed(range(len(self.derivatives))):\n",
    "            # get activation for previous layer\n",
    "            activations = self.activations[i+1]\n",
    "            # apply sigmoid derivative function\n",
    "            delta = error * self.sigmoid_derivative(activations)\n",
    "\n",
    "            # reshape delta as to have it as a 2d array and transpose it\n",
    "            delta_reshaped = delta.reshape(delta.shape[0], -1).T\n",
    "            # get activations for current layer\n",
    "            current_activations = self.activations[i]\n",
    "            # reshape activations as to have them as a 2d column matrix\n",
    "            current_activations_reshaped = current_activations.reshape(current_activations.shape[0],-1)\n",
    "            # activations shouldnt be tranposed since activations represents the structure of the layer\n",
    "            # (in this case is neuron), so instead we tranpose the delta (error) to maintain the \n",
    "            # structure\n",
    "            self.derivatives[i] = np.dot(current_activations_reshaped, delta_reshaped)\n",
    "            # backpropogate the next error\n",
    "            error = np.dot(delta, self.weights[i].T)\n",
    "\n",
    "\n",
    "    def train(self,inputs,targets,epochs,learning_rate):\n",
    "        for i in range(epochs):\n",
    "            sum_errors = 0\n",
    "            # iterate through all the training data\n",
    "            for j, input in enumerate(inputs):\n",
    "                target = targets[j]\n",
    "                # activate the network!\n",
    "                output = self.forward_propagate(input)\n",
    "                error = target - output\n",
    "                self.back_propagate(error)\n",
    "                # now perform gradient descent on the derivatives\n",
    "                # (this will update the weights\n",
    "                self.gradient_descent(learning_rate)\n",
    "                # keep track of the MSE for reporting later\n",
    "                sum_errors += self.MSE(target, output)\n",
    "            # divide by all items since every error consisted on every items\n",
    "            print(\"Error: {} at epoch {}\".format(sum_errors / len(items), i+1))\n",
    "\n",
    "    def gradient_descent(self, learningRate=1):\n",
    "        # update the weights by stepping down the gradient\n",
    "        for i in range(len(self.weights)):\n",
    "            weights = self.weights[i]\n",
    "            derivatives = self.derivatives[i]\n",
    "            weights += derivatives * learningRate\n",
    "\n",
    "    def sigmoid(self, x):\n",
    "        y = 1.0 / (1 + np.exp(-x))\n",
    "        return y\n",
    "\n",
    "    def sigmoid_derivative(self, x):\n",
    "        return x * (1.0 - x)\n",
    "\n",
    "    def MSE(self, target, output):\n",
    "        return np.average((target - output) ** 2)"
   ]
  },
  {
   "cell_type": "code",
   "execution_count": 41,
   "metadata": {},
   "outputs": [
    {
     "name": "stdout",
     "output_type": "stream",
     "text": [
      "Error: 0.043105932286494536 at epoch 1\n",
      "Error: 0.04031586935110494 at epoch 2\n",
      "Error: 0.040170498600483294 at epoch 3\n",
      "Error: 0.03998592189168139 at epoch 4\n",
      "Error: 0.03974662305986018 at epoch 5\n",
      "Error: 0.03943293851684384 at epoch 6\n",
      "Error: 0.03901999093694101 at epoch 7\n",
      "Error: 0.03847681265406439 at epoch 8\n",
      "Error: 0.0377660888335759 at epoch 9\n",
      "Error: 0.036845297180482024 at epoch 10\n",
      "Error: 0.035670369815816526 at epoch 11\n",
      "Error: 0.034203036014616356 at epoch 12\n",
      "Error: 0.032422091753967625 at epoch 13\n",
      "Error: 0.030336421250265786 at epoch 14\n",
      "Error: 0.02799431664364863 at epoch 15\n",
      "Error: 0.025482349992743254 at epoch 16\n",
      "Error: 0.022910940849942055 at epoch 17\n",
      "Error: 0.020391591126220614 at epoch 18\n",
      "Error: 0.01801592924608311 at epoch 19\n",
      "Error: 0.01584446536057823 at epoch 20\n"
     ]
    }
   ],
   "source": [
    "# create a dataset to train a network for the sum operation\n",
    "items = np.array([[random()/2 for _ in range(2)] for _ in range(1000)])\n",
    "targets = np.array([[i[0] + i[1]] for i in items])\n",
    "\n",
    "# create a Multilayer Perceptron with one hidden layer and each neuron on the layer\n",
    "mlp = MLP(2, [5], 1)\n",
    "\n",
    "# train network\n",
    "mlp.train(items, targets, 20, 0.1)"
   ]
  },
  {
   "cell_type": "markdown",
   "metadata": {},
   "source": [
    "Prediction"
   ]
  },
  {
   "cell_type": "code",
   "execution_count": 38,
   "metadata": {},
   "outputs": [
    {
     "name": "stdout",
     "output_type": "stream",
     "text": [
      "\n",
      "Our network believes that 0.3 + 0.1 is equal to 0.4423588287292325\n"
     ]
    }
   ],
   "source": [
    "input = np.array([0.3, 0.1])\n",
    "target = np.array([0.4])\n",
    "\n",
    "# get a prediction\n",
    "output = mlp.forward_propagate(input)\n",
    "\n",
    "print()\n",
    "print(\"Our network believes that {} + {} is equal to {}\".format(input[0], input[1], output[0]))"
   ]
  }
 ],
 "metadata": {
  "kernelspec": {
   "display_name": "Python 3.6 (tensorflow)",
   "language": "python",
   "name": "tensorflow"
  },
  "language_info": {
   "codemirror_mode": {
    "name": "ipython",
    "version": 3
   },
   "file_extension": ".py",
   "mimetype": "text/x-python",
   "name": "python",
   "nbconvert_exporter": "python",
   "pygments_lexer": "ipython3",
   "version": "3.6.10"
  }
 },
 "nbformat": 4,
 "nbformat_minor": 4
}
