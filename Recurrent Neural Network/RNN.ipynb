{
 "cells": [
  {
   "cell_type": "code",
   "execution_count": 1,
   "metadata": {
    "id": "jNdKSZTpVpXs"
   },
   "outputs": [],
   "source": [
    "import pandas as pd\n",
    "import numpy as np\n",
    "import random\n",
    "from sklearn import preprocessing\n",
    "from sklearn.model_selection import train_test_split\n",
    "from tensorflow.keras.models import Sequential\n",
    "from tensorflow.keras.layers import Dense,Dropout,LSTM,BatchNormalization\n",
    "from tensorflow.keras.callbacks import TensorBoard,ModelCheckpoint\n",
    "from tensorflow.keras.optimizers import Adam\n",
    "from tensorflow.keras.models import load_model\n",
    "import matplotlib.pyplot as plt"
   ]
  },
  {
   "cell_type": "code",
   "execution_count": 3,
   "metadata": {
    "colab": {
     "base_uri": "https://localhost:8080/",
     "height": 202
    },
    "id": "GG_HjvzZVpX0",
    "outputId": "e6c80edd-0a23-4433-8c3a-873e8a8d5f7f"
   },
   "outputs": [
    {
     "data": {
      "text/html": [
       "<div>\n",
       "<style scoped>\n",
       "    .dataframe tbody tr th:only-of-type {\n",
       "        vertical-align: middle;\n",
       "    }\n",
       "\n",
       "    .dataframe tbody tr th {\n",
       "        vertical-align: top;\n",
       "    }\n",
       "\n",
       "    .dataframe thead th {\n",
       "        text-align: right;\n",
       "    }\n",
       "</style>\n",
       "<table border=\"1\" class=\"dataframe\">\n",
       "  <thead>\n",
       "    <tr style=\"text-align: right;\">\n",
       "      <th></th>\n",
       "      <th>time</th>\n",
       "      <th>low</th>\n",
       "      <th>high</th>\n",
       "      <th>open</th>\n",
       "      <th>close</th>\n",
       "      <th>volume</th>\n",
       "    </tr>\n",
       "  </thead>\n",
       "  <tbody>\n",
       "    <tr>\n",
       "      <th>0</th>\n",
       "      <td>1528968660</td>\n",
       "      <td>871.650024</td>\n",
       "      <td>871.729980</td>\n",
       "      <td>871.650024</td>\n",
       "      <td>871.719971</td>\n",
       "      <td>5.675361</td>\n",
       "    </tr>\n",
       "    <tr>\n",
       "      <th>1</th>\n",
       "      <td>1528968720</td>\n",
       "      <td>870.859985</td>\n",
       "      <td>871.719971</td>\n",
       "      <td>871.719971</td>\n",
       "      <td>870.859985</td>\n",
       "      <td>26.856577</td>\n",
       "    </tr>\n",
       "    <tr>\n",
       "      <th>2</th>\n",
       "      <td>1528968780</td>\n",
       "      <td>870.099976</td>\n",
       "      <td>871.090027</td>\n",
       "      <td>871.090027</td>\n",
       "      <td>870.099976</td>\n",
       "      <td>1.124300</td>\n",
       "    </tr>\n",
       "    <tr>\n",
       "      <th>3</th>\n",
       "      <td>1528968840</td>\n",
       "      <td>868.830017</td>\n",
       "      <td>870.950012</td>\n",
       "      <td>868.830017</td>\n",
       "      <td>870.789978</td>\n",
       "      <td>1.749862</td>\n",
       "    </tr>\n",
       "    <tr>\n",
       "      <th>4</th>\n",
       "      <td>1528968900</td>\n",
       "      <td>870.000000</td>\n",
       "      <td>870.000000</td>\n",
       "      <td>870.000000</td>\n",
       "      <td>870.000000</td>\n",
       "      <td>1.680500</td>\n",
       "    </tr>\n",
       "  </tbody>\n",
       "</table>\n",
       "</div>"
      ],
      "text/plain": [
       "         time         low        high        open       close     volume\n",
       "0  1528968660  871.650024  871.729980  871.650024  871.719971   5.675361\n",
       "1  1528968720  870.859985  871.719971  871.719971  870.859985  26.856577\n",
       "2  1528968780  870.099976  871.090027  871.090027  870.099976   1.124300\n",
       "3  1528968840  868.830017  870.950012  868.830017  870.789978   1.749862\n",
       "4  1528968900  870.000000  870.000000  870.000000  870.000000   1.680500"
      ]
     },
     "execution_count": 3,
     "metadata": {},
     "output_type": "execute_result"
    }
   ],
   "source": [
    "path = 'crypto\\BCH-USD.csv'\n",
    "df = pd.read_csv(path,names = ['time','low','high','open','close','volume'])\n",
    "df.head()"
   ]
  },
  {
   "cell_type": "code",
   "execution_count": 4,
   "metadata": {
    "id": "MjXwQR9VVpX1"
   },
   "outputs": [],
   "source": [
    "future_close_period = 3\n",
    "time_period = 60\n",
    "batch_size = 64\n",
    "def classify(current_price,future_price):\n",
    "    if float(future_price) > float(current_price):\n",
    "        return 1\n",
    "    else:\n",
    "        return 0"
   ]
  },
  {
   "cell_type": "code",
   "execution_count": 5,
   "metadata": {
    "id": "4tQwhJHWVpX1"
   },
   "outputs": [],
   "source": [
    "close_df = pd.DataFrame()\n",
    "close_df['time'] = df['time']\n",
    "# get current close price\n",
    "close_df['cur_close_price'] = df['close']\n",
    "# shift three prices up to get future price\n",
    "close_df['fut_close_price'] = df['close'].shift(-future_close_period)\n",
    "# get the volume of the close market\n",
    "close_df['volume'] = df['volume']\n",
    "# set time as index\n",
    "close_df.set_index('time',inplace=True)"
   ]
  },
  {
   "cell_type": "code",
   "execution_count": 6,
   "metadata": {
    "colab": {
     "base_uri": "https://localhost:8080/",
     "height": 233
    },
    "id": "6WehdQ4wVpX2",
    "outputId": "b654e968-83d7-49c0-ce90-e288d1ae27c5"
   },
   "outputs": [
    {
     "data": {
      "text/html": [
       "<div>\n",
       "<style scoped>\n",
       "    .dataframe tbody tr th:only-of-type {\n",
       "        vertical-align: middle;\n",
       "    }\n",
       "\n",
       "    .dataframe tbody tr th {\n",
       "        vertical-align: top;\n",
       "    }\n",
       "\n",
       "    .dataframe thead th {\n",
       "        text-align: right;\n",
       "    }\n",
       "</style>\n",
       "<table border=\"1\" class=\"dataframe\">\n",
       "  <thead>\n",
       "    <tr style=\"text-align: right;\">\n",
       "      <th></th>\n",
       "      <th>cur_close_price</th>\n",
       "      <th>fut_close_price</th>\n",
       "      <th>volume</th>\n",
       "      <th>target</th>\n",
       "    </tr>\n",
       "    <tr>\n",
       "      <th>time</th>\n",
       "      <th></th>\n",
       "      <th></th>\n",
       "      <th></th>\n",
       "      <th></th>\n",
       "    </tr>\n",
       "  </thead>\n",
       "  <tbody>\n",
       "    <tr>\n",
       "      <th>1528968660</th>\n",
       "      <td>871.719971</td>\n",
       "      <td>870.789978</td>\n",
       "      <td>5.675361</td>\n",
       "      <td>0</td>\n",
       "    </tr>\n",
       "    <tr>\n",
       "      <th>1528968720</th>\n",
       "      <td>870.859985</td>\n",
       "      <td>870.000000</td>\n",
       "      <td>26.856577</td>\n",
       "      <td>0</td>\n",
       "    </tr>\n",
       "    <tr>\n",
       "      <th>1528968780</th>\n",
       "      <td>870.099976</td>\n",
       "      <td>869.989990</td>\n",
       "      <td>1.124300</td>\n",
       "      <td>0</td>\n",
       "    </tr>\n",
       "    <tr>\n",
       "      <th>1528968840</th>\n",
       "      <td>870.789978</td>\n",
       "      <td>869.450012</td>\n",
       "      <td>1.749862</td>\n",
       "      <td>0</td>\n",
       "    </tr>\n",
       "    <tr>\n",
       "      <th>1528968900</th>\n",
       "      <td>870.000000</td>\n",
       "      <td>869.989990</td>\n",
       "      <td>1.680500</td>\n",
       "      <td>0</td>\n",
       "    </tr>\n",
       "  </tbody>\n",
       "</table>\n",
       "</div>"
      ],
      "text/plain": [
       "            cur_close_price  fut_close_price     volume  target\n",
       "time                                                           \n",
       "1528968660       871.719971       870.789978   5.675361       0\n",
       "1528968720       870.859985       870.000000  26.856577       0\n",
       "1528968780       870.099976       869.989990   1.124300       0\n",
       "1528968840       870.789978       869.450012   1.749862       0\n",
       "1528968900       870.000000       869.989990   1.680500       0"
      ]
     },
     "execution_count": 6,
     "metadata": {},
     "output_type": "execute_result"
    }
   ],
   "source": [
    "target = list(map(classify,close_df['cur_close_price'],close_df['fut_close_price']))\n",
    "close_df['target'] = target\n",
    "close_df.head()"
   ]
  },
  {
   "cell_type": "code",
   "execution_count": 7,
   "metadata": {
    "colab": {
     "base_uri": "https://localhost:8080/"
    },
    "id": "3X9PNFHAVpX2",
    "outputId": "ecf8dbb2-4c77-4749-afa3-68d7f3967c50"
   },
   "outputs": [
    {
     "data": {
      "text/plain": [
       "cur_close_price    False\n",
       "fut_close_price    False\n",
       "volume             False\n",
       "target             False\n",
       "dtype: bool"
      ]
     },
     "execution_count": 7,
     "metadata": {},
     "output_type": "execute_result"
    }
   ],
   "source": [
    "nan_col = close_df.columns[close_df.isnull().any()]\n",
    "close_df.dropna(subset = nan_col,inplace=True)\n",
    "close_df.isnull().any()"
   ]
  },
  {
   "cell_type": "code",
   "execution_count": 8,
   "metadata": {
    "colab": {
     "base_uri": "https://localhost:8080/",
     "height": 233
    },
    "id": "qajpqmyJVpX3",
    "outputId": "d43b4735-06eb-46fe-ee96-3b052db808d9"
   },
   "outputs": [
    {
     "data": {
      "text/html": [
       "<div>\n",
       "<style scoped>\n",
       "    .dataframe tbody tr th:only-of-type {\n",
       "        vertical-align: middle;\n",
       "    }\n",
       "\n",
       "    .dataframe tbody tr th {\n",
       "        vertical-align: top;\n",
       "    }\n",
       "\n",
       "    .dataframe thead th {\n",
       "        text-align: right;\n",
       "    }\n",
       "</style>\n",
       "<table border=\"1\" class=\"dataframe\">\n",
       "  <thead>\n",
       "    <tr style=\"text-align: right;\">\n",
       "      <th></th>\n",
       "      <th>cur_close_price</th>\n",
       "      <th>fut_close_price</th>\n",
       "      <th>volume</th>\n",
       "      <th>target</th>\n",
       "    </tr>\n",
       "    <tr>\n",
       "      <th>time</th>\n",
       "      <th></th>\n",
       "      <th></th>\n",
       "      <th></th>\n",
       "      <th></th>\n",
       "    </tr>\n",
       "  </thead>\n",
       "  <tbody>\n",
       "    <tr>\n",
       "      <th>1528968660</th>\n",
       "      <td>871.719971</td>\n",
       "      <td>870.789978</td>\n",
       "      <td>5.675361</td>\n",
       "      <td>0</td>\n",
       "    </tr>\n",
       "    <tr>\n",
       "      <th>1528968720</th>\n",
       "      <td>870.859985</td>\n",
       "      <td>870.000000</td>\n",
       "      <td>26.856577</td>\n",
       "      <td>0</td>\n",
       "    </tr>\n",
       "    <tr>\n",
       "      <th>1528968780</th>\n",
       "      <td>870.099976</td>\n",
       "      <td>869.989990</td>\n",
       "      <td>1.124300</td>\n",
       "      <td>0</td>\n",
       "    </tr>\n",
       "    <tr>\n",
       "      <th>1528968840</th>\n",
       "      <td>870.789978</td>\n",
       "      <td>869.450012</td>\n",
       "      <td>1.749862</td>\n",
       "      <td>0</td>\n",
       "    </tr>\n",
       "    <tr>\n",
       "      <th>1528968900</th>\n",
       "      <td>870.000000</td>\n",
       "      <td>869.989990</td>\n",
       "      <td>1.680500</td>\n",
       "      <td>0</td>\n",
       "    </tr>\n",
       "  </tbody>\n",
       "</table>\n",
       "</div>"
      ],
      "text/plain": [
       "            cur_close_price  fut_close_price     volume  target\n",
       "time                                                           \n",
       "1528968660       871.719971       870.789978   5.675361       0\n",
       "1528968720       870.859985       870.000000  26.856577       0\n",
       "1528968780       870.099976       869.989990   1.124300       0\n",
       "1528968840       870.789978       869.450012   1.749862       0\n",
       "1528968900       870.000000       869.989990   1.680500       0"
      ]
     },
     "execution_count": 8,
     "metadata": {},
     "output_type": "execute_result"
    }
   ],
   "source": [
    "close_df.head()"
   ]
  },
  {
   "cell_type": "code",
   "execution_count": 9,
   "metadata": {
    "id": "JBr0vkSCVpX3"
   },
   "outputs": [],
   "source": [
    "def data_preprocessing(df):\n",
    "    df = df.drop('fut_close_price',axis = 1)\n",
    "    seq_data = []\n",
    "    for column in df.columns[:-1]:\n",
    "        df[column] = df[column].pct_change()\n",
    "        df.dropna(inplace=True)\n",
    "        df[column] = preprocessing.scale(df[column])\n",
    "    items = []\n",
    "    for period,value in enumerate(df.values):\n",
    "        if len(items) < time_period:\n",
    "            if len(items) == time_period - 1:\n",
    "                target = value[-1]\n",
    "            items.append(value[:-1])\n",
    "        else:\n",
    "            seq_data.append((np.array(items),target))\n",
    "            items.clear()\n",
    "    random.shuffle(seq_data)\n",
    "\n",
    "    x = []\n",
    "    y = []\n",
    "    for data,target in seq_data:\n",
    "        x.append(data)\n",
    "        y.append(target)\n",
    "    return np.array(x),np.array(y)"
   ]
  },
  {
   "cell_type": "code",
   "execution_count": 10,
   "metadata": {
    "id": "L9N0EhyrVpX3"
   },
   "outputs": [],
   "source": [
    "x,y = data_preprocessing(close_df)"
   ]
  },
  {
   "cell_type": "code",
   "execution_count": 11,
   "metadata": {
    "id": "Sd-voij_VpX4"
   },
   "outputs": [],
   "source": [
    "x_train,x_test,y_train,y_test = train_test_split(x, y, test_size = 0.1, random_state = 10)"
   ]
  },
  {
   "cell_type": "code",
   "execution_count": 12,
   "metadata": {
    "colab": {
     "base_uri": "https://localhost:8080/"
    },
    "id": "2wxt8VDZXSWo",
    "outputId": "ab581f31-6db6-42ce-e6a9-dd68bfa3ae2b"
   },
   "outputs": [
    {
     "data": {
      "text/plain": [
       "((1359, 60, 2), (1359,))"
      ]
     },
     "execution_count": 12,
     "metadata": {},
     "output_type": "execute_result"
    }
   ],
   "source": [
    "x_train.shape, y_train.shape"
   ]
  },
  {
   "cell_type": "code",
   "execution_count": 13,
   "metadata": {
    "colab": {
     "base_uri": "https://localhost:8080/"
    },
    "id": "v5EuMBQ1VpX4",
    "outputId": "51fbc0b4-a281-4706-dc79-1837320b9f03"
   },
   "outputs": [
    {
     "name": "stdout",
     "output_type": "stream",
     "text": [
      "Model: \"sequential\"\n",
      "_________________________________________________________________\n",
      "Layer (type)                 Output Shape              Param #   \n",
      "=================================================================\n",
      "lstm (LSTM)                  (None, 60, 128)           67072     \n",
      "_________________________________________________________________\n",
      "dropout (Dropout)            (None, 60, 128)           0         \n",
      "_________________________________________________________________\n",
      "batch_normalization (BatchNo (None, 60, 128)           512       \n",
      "_________________________________________________________________\n",
      "lstm_1 (LSTM)                (None, 60, 128)           131584    \n",
      "_________________________________________________________________\n",
      "dropout_1 (Dropout)          (None, 60, 128)           0         \n",
      "_________________________________________________________________\n",
      "batch_normalization_1 (Batch (None, 60, 128)           512       \n",
      "_________________________________________________________________\n",
      "lstm_2 (LSTM)                (None, 128)               131584    \n",
      "_________________________________________________________________\n",
      "dropout_2 (Dropout)          (None, 128)               0         \n",
      "_________________________________________________________________\n",
      "batch_normalization_2 (Batch (None, 128)               512       \n",
      "_________________________________________________________________\n",
      "dense (Dense)                (None, 32)                4128      \n",
      "_________________________________________________________________\n",
      "dense_1 (Dense)              (None, 2)                 66        \n",
      "=================================================================\n",
      "Total params: 335,970\n",
      "Trainable params: 335,202\n",
      "Non-trainable params: 768\n",
      "_________________________________________________________________\n"
     ]
    }
   ],
   "source": [
    "model = Sequential()\n",
    "model.add(LSTM(128, input_shape=(x_train.shape[1:]), return_sequences=True))\n",
    "model.add(Dropout(0.2))\n",
    "model.add(BatchNormalization())  #normalizes activation outputs, same reason you want to normalize your input data.\n",
    "\n",
    "model.add(LSTM(128, return_sequences=True))\n",
    "model.add(Dropout(0.2))\n",
    "model.add(BatchNormalization())\n",
    "\n",
    "model.add(LSTM(128))\n",
    "model.add(Dropout(0.2))\n",
    "model.add(BatchNormalization())\n",
    "\n",
    "model.add(Dense(32, activation='relu'))\n",
    "\n",
    "model.add(Dense(2, activation='softmax'))\n",
    "model.summary()"
   ]
  },
  {
   "cell_type": "code",
   "execution_count": 14,
   "metadata": {
    "id": "li5vCvXHVpX5"
   },
   "outputs": [],
   "source": [
    "optimizer = Adam(lr=0.001)\n",
    "model.compile(loss = 'sparse_categorical_crossentropy' , optimizer = optimizer, metrics = ['accuracy'])"
   ]
  },
  {
   "cell_type": "markdown",
   "metadata": {},
   "source": [
    "Train on google colab"
   ]
  },
  {
   "cell_type": "code",
   "execution_count": null,
   "metadata": {
    "colab": {
     "base_uri": "https://localhost:8080/"
    },
    "id": "D66x5tfhVpX5",
    "outputId": "ca94f47b-bc4d-4c32-c737-205d34b92fb7"
   },
   "outputs": [
    {
     "name": "stdout",
     "output_type": "stream",
     "text": [
      "Epoch 1/70\n",
      "22/22 [==============================] - 15s 395ms/step - loss: 0.9145 - accuracy: 0.4847\n",
      "Epoch 2/70\n",
      "22/22 [==============================] - 8s 374ms/step - loss: 0.7854 - accuracy: 0.5135\n",
      "Epoch 3/70\n",
      "22/22 [==============================] - 9s 391ms/step - loss: 0.7227 - accuracy: 0.5540\n",
      "Epoch 4/70\n",
      "22/22 [==============================] - 8s 382ms/step - loss: 0.7054 - accuracy: 0.5565\n",
      "Epoch 5/70\n",
      "22/22 [==============================] - 9s 387ms/step - loss: 0.7180 - accuracy: 0.5777\n",
      "Epoch 6/70\n",
      "22/22 [==============================] - 9s 393ms/step - loss: 0.7251 - accuracy: 0.5523\n",
      "Epoch 7/70\n",
      "22/22 [==============================] - 8s 374ms/step - loss: 0.6927 - accuracy: 0.5619\n",
      "Epoch 8/70\n",
      "22/22 [==============================] - 8s 379ms/step - loss: 0.6937 - accuracy: 0.5742\n",
      "Epoch 9/70\n",
      "22/22 [==============================] - 8s 373ms/step - loss: 0.6770 - accuracy: 0.5865\n",
      "Epoch 10/70\n",
      "22/22 [==============================] - 8s 380ms/step - loss: 0.6707 - accuracy: 0.5913\n",
      "Epoch 11/70\n",
      "22/22 [==============================] - 9s 391ms/step - loss: 0.6632 - accuracy: 0.6007\n",
      "Epoch 12/70\n",
      "22/22 [==============================] - 8s 381ms/step - loss: 0.6694 - accuracy: 0.6027\n",
      "Epoch 13/70\n",
      "22/22 [==============================] - 8s 382ms/step - loss: 0.6615 - accuracy: 0.6061\n",
      "Epoch 14/70\n",
      "22/22 [==============================] - 8s 380ms/step - loss: 0.6619 - accuracy: 0.6037\n",
      "Epoch 15/70\n",
      "22/22 [==============================] - 8s 375ms/step - loss: 0.6449 - accuracy: 0.6018\n",
      "Epoch 16/70\n",
      "22/22 [==============================] - 9s 395ms/step - loss: 0.6464 - accuracy: 0.6079\n",
      "Epoch 17/70\n",
      "22/22 [==============================] - 8s 383ms/step - loss: 0.6801 - accuracy: 0.5641\n",
      "Epoch 18/70\n",
      "22/22 [==============================] - 8s 381ms/step - loss: 0.6327 - accuracy: 0.6329\n",
      "Epoch 19/70\n",
      "22/22 [==============================] - 8s 383ms/step - loss: 0.6175 - accuracy: 0.6444\n",
      "Epoch 20/70\n",
      "22/22 [==============================] - 8s 381ms/step - loss: 0.6411 - accuracy: 0.6287\n",
      "Epoch 21/70\n",
      "22/22 [==============================] - 8s 379ms/step - loss: 0.6538 - accuracy: 0.5899\n",
      "Epoch 22/70\n",
      "22/22 [==============================] - 9s 390ms/step - loss: 0.6190 - accuracy: 0.6350\n",
      "Epoch 23/70\n",
      "22/22 [==============================] - 8s 382ms/step - loss: 0.6628 - accuracy: 0.6153\n",
      "Epoch 24/70\n",
      "22/22 [==============================] - 8s 371ms/step - loss: 0.6312 - accuracy: 0.6411\n",
      "Epoch 25/70\n",
      "22/22 [==============================] - 8s 382ms/step - loss: 0.6237 - accuracy: 0.6474\n",
      "Epoch 26/70\n",
      "22/22 [==============================] - 8s 379ms/step - loss: 0.6269 - accuracy: 0.6322\n",
      "Epoch 27/70\n",
      "22/22 [==============================] - 9s 399ms/step - loss: 0.6284 - accuracy: 0.6290\n",
      "Epoch 28/70\n",
      "22/22 [==============================] - 8s 382ms/step - loss: 0.5963 - accuracy: 0.6791\n",
      "Epoch 29/70\n",
      "22/22 [==============================] - 8s 384ms/step - loss: 0.6072 - accuracy: 0.6572\n",
      "Epoch 30/70\n",
      "22/22 [==============================] - 8s 379ms/step - loss: 0.5980 - accuracy: 0.6551\n",
      "Epoch 31/70\n",
      "22/22 [==============================] - 9s 391ms/step - loss: 0.5574 - accuracy: 0.7008\n",
      "Epoch 32/70\n",
      "22/22 [==============================] - 8s 371ms/step - loss: 0.5598 - accuracy: 0.7117\n",
      "Epoch 33/70\n",
      "22/22 [==============================] - 8s 379ms/step - loss: 0.5650 - accuracy: 0.6981\n",
      "Epoch 34/70\n",
      "22/22 [==============================] - 8s 378ms/step - loss: 0.5505 - accuracy: 0.7126\n",
      "Epoch 35/70\n",
      "22/22 [==============================] - 8s 379ms/step - loss: 0.5155 - accuracy: 0.7384\n",
      "Epoch 36/70\n",
      "22/22 [==============================] - 8s 376ms/step - loss: 0.5316 - accuracy: 0.7464\n",
      "Epoch 37/70\n",
      "22/22 [==============================] - 9s 386ms/step - loss: 0.5306 - accuracy: 0.7228\n",
      "Epoch 38/70\n",
      "22/22 [==============================] - 8s 374ms/step - loss: 0.5262 - accuracy: 0.7213\n",
      "Epoch 39/70\n",
      "22/22 [==============================] - 8s 373ms/step - loss: 0.4940 - accuracy: 0.7494\n",
      "Epoch 40/70\n",
      "22/22 [==============================] - 9s 386ms/step - loss: 0.4870 - accuracy: 0.7343\n",
      "Epoch 41/70\n",
      "22/22 [==============================] - 9s 424ms/step - loss: 0.5078 - accuracy: 0.7492\n",
      "Epoch 42/70\n",
      "22/22 [==============================] - 10s 447ms/step - loss: 0.5027 - accuracy: 0.7453\n",
      "Epoch 43/70\n",
      "22/22 [==============================] - 8s 385ms/step - loss: 0.4686 - accuracy: 0.7511\n",
      "Epoch 44/70\n",
      "22/22 [==============================] - 8s 372ms/step - loss: 0.4406 - accuracy: 0.7636\n",
      "Epoch 45/70\n",
      "22/22 [==============================] - 8s 377ms/step - loss: 0.4158 - accuracy: 0.8140\n",
      "Epoch 46/70\n",
      "22/22 [==============================] - 8s 376ms/step - loss: 0.4077 - accuracy: 0.8152\n",
      "Epoch 47/70\n",
      "22/22 [==============================] - 8s 376ms/step - loss: 0.4110 - accuracy: 0.7945\n",
      "Epoch 48/70\n",
      "22/22 [==============================] - 8s 375ms/step - loss: 0.3808 - accuracy: 0.8209\n",
      "Epoch 49/70\n",
      "22/22 [==============================] - 9s 388ms/step - loss: 0.3767 - accuracy: 0.8316\n",
      "Epoch 50/70\n",
      "22/22 [==============================] - 8s 381ms/step - loss: 0.3723 - accuracy: 0.8162\n",
      "Epoch 51/70\n",
      "22/22 [==============================] - 8s 384ms/step - loss: 0.3702 - accuracy: 0.8246\n",
      "Epoch 52/70\n",
      "22/22 [==============================] - 8s 372ms/step - loss: 0.3375 - accuracy: 0.8579\n",
      "Epoch 53/70\n",
      "22/22 [==============================] - 8s 373ms/step - loss: 0.3579 - accuracy: 0.8196\n",
      "Epoch 54/70\n",
      "22/22 [==============================] - 8s 377ms/step - loss: 0.3648 - accuracy: 0.8357\n",
      "Epoch 55/70\n",
      "22/22 [==============================] - 9s 388ms/step - loss: 0.3704 - accuracy: 0.8301\n",
      "Epoch 56/70\n",
      "22/22 [==============================] - 9s 389ms/step - loss: 0.3351 - accuracy: 0.8585\n",
      "Epoch 57/70\n",
      "22/22 [==============================] - 9s 388ms/step - loss: 0.3146 - accuracy: 0.8612\n",
      "Epoch 58/70\n",
      "22/22 [==============================] - 8s 377ms/step - loss: 0.3020 - accuracy: 0.8707\n",
      "Epoch 59/70\n",
      "22/22 [==============================] - 8s 381ms/step - loss: 0.2791 - accuracy: 0.8902\n",
      "Epoch 60/70\n",
      "22/22 [==============================] - 8s 381ms/step - loss: 0.2979 - accuracy: 0.8658\n",
      "Epoch 61/70\n",
      "22/22 [==============================] - 9s 386ms/step - loss: 0.3028 - accuracy: 0.8693\n",
      "Epoch 62/70\n",
      "22/22 [==============================] - 8s 382ms/step - loss: 0.2823 - accuracy: 0.8694\n",
      "Epoch 63/70\n",
      "22/22 [==============================] - 9s 388ms/step - loss: 0.2863 - accuracy: 0.8699\n",
      "Epoch 64/70\n",
      "22/22 [==============================] - 8s 385ms/step - loss: 0.2403 - accuracy: 0.9060\n",
      "Epoch 65/70\n",
      "22/22 [==============================] - 9s 386ms/step - loss: 0.2403 - accuracy: 0.8863\n",
      "Epoch 66/70\n",
      "22/22 [==============================] - 8s 378ms/step - loss: 0.2185 - accuracy: 0.8995\n",
      "Epoch 67/70\n",
      "22/22 [==============================] - 9s 397ms/step - loss: 0.2644 - accuracy: 0.9012\n",
      "Epoch 68/70\n",
      "22/22 [==============================] - 8s 385ms/step - loss: 0.2482 - accuracy: 0.9002\n",
      "Epoch 69/70\n",
      "22/22 [==============================] - 8s 380ms/step - loss: 0.2090 - accuracy: 0.9089\n",
      "Epoch 70/70\n",
      "22/22 [==============================] - 8s 379ms/step - loss: 0.2642 - accuracy: 0.8952\n"
     ]
    }
   ],
   "source": [
    "history = model.fit(\n",
    "    x_train, y_train,\n",
    "    batch_size = batch_size,\n",
    "    epochs = 70\n",
    ")"
   ]
  },
  {
   "cell_type": "code",
   "execution_count": 16,
   "metadata": {
    "id": "mfsSrsYpWgb1"
   },
   "outputs": [
    {
     "name": "stdout",
     "output_type": "stream",
     "text": [
      "\n"
     ]
    }
   ],
   "source": [
    "model.save('BCH-RNN.h5')"
   ]
  },
  {
   "cell_type": "code",
   "execution_count": 18,
   "metadata": {},
   "outputs": [],
   "source": [
    "model = load_model('BCH-RNN.h5',compile=False)"
   ]
  },
  {
   "cell_type": "code",
   "execution_count": 19,
   "metadata": {
    "colab": {
     "base_uri": "https://localhost:8080/",
     "height": 729
    },
    "collapsed": true,
    "id": "CQ8bp6lTDiaS",
    "outputId": "dd520ceb-ddf9-4006-d2ee-98789c4fa1ad"
   },
   "outputs": [
    {
     "data": {
      "image/png": "[encoded data removed]",
      "text/plain": [
       "<Figure size 1296x720 with 1 Axes>"
      ]
     },
     "metadata": {
      "needs_background": "light",
      "tags": []
     },
     "output_type": "display_data"
    }
   ],
   "source": [
    "fig,ax = plt.subplots(1,1,figsize = (18,10))\n",
    "ax.plot(model.history.history['loss'], color = 'r' , label = 'Training loss')\n",
    "ax.plot(model.history.history['accuracy'], color = 'b' , label = 'Training accuracy')\n",
    "plt.legend()\n",
    "ax.grid(True)\n",
    "plt.tight_layout()\n",
    "plt.show()"
   ]
  },
  {
   "cell_type": "code",
   "execution_count": 20,
   "metadata": {
    "id": "ZwR4DRVoKBQP"
   },
   "outputs": [],
   "source": [
    "result = np.argmax(model.predict(x_test),axis=-1)\n",
    "comparison = result == y_test"
   ]
  },
  {
   "cell_type": "code",
   "execution_count": 21,
   "metadata": {},
   "outputs": [
    {
     "name": "stdout",
     "output_type": "stream",
     "text": [
      "Ratio of false prediction over population : 0.14473684210526316\n",
      "Ratio of true prediction over population : 0.8552631578947368\n"
     ]
    }
   ],
   "source": [
    "print('Ratio of false prediction over population : {}'.\n",
    "      format(len(comparison[comparison == False])/x_test.shape[0]))\n",
    "print('Ratio of true prediction over population : {}'.\n",
    "      format(len(comparison[comparison == True])/x_test.shape[0]))"
   ]
  }
 ],
 "metadata": {
  "colab": {
   "collapsed_sections": [],
   "name": "RNN.ipynb",
   "provenance": []
  },
  "kernelspec": {
   "display_name": "Python 3.6 (tensorflow)",
   "language": "python",
   "name": "tensorflow"
  },
  "language_info": {
   "codemirror_mode": {
    "name": "ipython",
    "version": 3
   },
   "file_extension": ".py",
   "mimetype": "text/x-python",
   "name": "python",
   "nbconvert_exporter": "python",
   "pygments_lexer": "ipython3",
   "version": "3.6.10"
  }
 },
 "nbformat": 4,
 "nbformat_minor": 1
}
